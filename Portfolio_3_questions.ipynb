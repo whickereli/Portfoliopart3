{
  "cells": [
    {
      "cell_type": "code",
      "source": [],
      "metadata": {
        "id": "4WcPNZfZm1ap"
      },
      "id": "4WcPNZfZm1ap",
      "execution_count": null,
      "outputs": []
    },
    {
      "cell_type": "markdown",
      "id": "Z88FfJc9lA_T",
      "metadata": {
        "id": "Z88FfJc9lA_T"
      },
      "source": [
        "## Analysis of an E-commerce Dataset Part 3 (s2 2023)"
      ]
    },
    {
      "cell_type": "markdown",
      "id": "hoq0NwA9lA_V",
      "metadata": {
        "id": "hoq0NwA9lA_V"
      },
      "source": [
        "\n",
        "In this Portfolio task, you will continue working with the dataset you have used in portfolio 2. But the difference is that the ratings have been converted to like (with score 1) and dislike (with score 0). Your task is to train classification models such as KNN to predict whether a user like or dislike an item.  \n",
        "\n",
        "\n",
        "The header of the csv file is shown below.\n",
        "\n",
        "| userId | timestamp | review | item | helpfulness | gender | category | item_id | item_price | user_city | rating |\n",
        "    | ---- | ---- | ---- | ---- | ---- | ---- | ---- | ---- | ---- | ---- | ---- |\n",
        "    \n",
        "Your high level goal in this notebook is to try to build and evaluate predictive models for 'rating' from other available features - predict the value of the like (corresponding to rating 1) and dislike (corresponding to rating 0) in the data from some of the other fields. More specifically, you need to complete the following major steps:\n",
        "1) Explore the data. Clean the data if necessary. For example, remove abnormal instanaces and replace missing values.\n",
        "2) Convert object features into digit features by using an encoder\n",
        "3) Study the correlation between these features.\n",
        "4) Split the dataset and train a logistic regression model to predict 'rating' based on other features. Evaluate the accuracy of your model.\n",
        "5) Split the dataset and train a KNN model to predict 'rating' based on other features. You can set K with an ad-hoc manner in this step. Evaluate the accuracy of your model.\n",
        "6) Tune the hyper-parameter K in KNN to see how it influences the prediction performance\n",
        "\n",
        "Note 1: We did not provide any description of each step in the notebook. You should learn how to properly comment your notebook by yourself to make your notebook file readable.\n",
        "\n",
        "Note 2: you are not being evaluated on the ___accuracy___ of the model but on the ___process___ that you use to generate it. Please use both ___Logistic Regression model___ and ___KNN model___ for solving this classification problem. Accordingly, discuss the performance of these two methods.\n",
        "    "
      ]
    }
  ],
  "metadata": {
    "colab": {
      "provenance": []
    },
    "kernelspec": {
      "display_name": "Python 3 (ipykernel)",
      "language": "python",
      "name": "python3"
    },
    "language_info": {
      "codemirror_mode": {
        "name": "ipython",
        "version": 3
      },
      "file_extension": ".py",
      "mimetype": "text/x-python",
      "name": "python",
      "nbconvert_exporter": "python",
      "pygments_lexer": "ipython3",
      "version": "3.9.7"
    }
  },
  "nbformat": 4,
  "nbformat_minor": 5
}